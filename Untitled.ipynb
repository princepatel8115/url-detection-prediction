{
 "cells": [
  {
   "cell_type": "code",
   "execution_count": 1,
   "id": "b1694500",
   "metadata": {},
   "outputs": [],
   "source": [
    "import pandas as pd"
   ]
  },
  {
   "cell_type": "code",
   "execution_count": 2,
   "id": "151d5610",
   "metadata": {},
   "outputs": [
    {
     "data": {
      "text/html": [
       "<div>\n",
       "<style scoped>\n",
       "    .dataframe tbody tr th:only-of-type {\n",
       "        vertical-align: middle;\n",
       "    }\n",
       "\n",
       "    .dataframe tbody tr th {\n",
       "        vertical-align: top;\n",
       "    }\n",
       "\n",
       "    .dataframe thead th {\n",
       "        text-align: right;\n",
       "    }\n",
       "</style>\n",
       "<table border=\"1\" class=\"dataframe\">\n",
       "  <thead>\n",
       "    <tr style=\"text-align: right;\">\n",
       "      <th></th>\n",
       "      <th>url</th>\n",
       "      <th>type</th>\n",
       "    </tr>\n",
       "  </thead>\n",
       "  <tbody>\n",
       "    <tr>\n",
       "      <th>0</th>\n",
       "      <td>br-icloud.com.br</td>\n",
       "      <td>phishing</td>\n",
       "    </tr>\n",
       "    <tr>\n",
       "      <th>1</th>\n",
       "      <td>mp3raid.com/music/krizz_kaliko.html</td>\n",
       "      <td>benign</td>\n",
       "    </tr>\n",
       "    <tr>\n",
       "      <th>2</th>\n",
       "      <td>bopsecrets.org/rexroth/cr/1.htm</td>\n",
       "      <td>benign</td>\n",
       "    </tr>\n",
       "    <tr>\n",
       "      <th>3</th>\n",
       "      <td>http://www.garage-pirenne.be/index.php?option=...</td>\n",
       "      <td>defacement</td>\n",
       "    </tr>\n",
       "    <tr>\n",
       "      <th>4</th>\n",
       "      <td>http://adventure-nicaragua.net/index.php?optio...</td>\n",
       "      <td>defacement</td>\n",
       "    </tr>\n",
       "  </tbody>\n",
       "</table>\n",
       "</div>"
      ],
      "text/plain": [
       "                                                 url        type\n",
       "0                                   br-icloud.com.br    phishing\n",
       "1                mp3raid.com/music/krizz_kaliko.html      benign\n",
       "2                    bopsecrets.org/rexroth/cr/1.htm      benign\n",
       "3  http://www.garage-pirenne.be/index.php?option=...  defacement\n",
       "4  http://adventure-nicaragua.net/index.php?optio...  defacement"
      ]
     },
     "execution_count": 2,
     "metadata": {},
     "output_type": "execute_result"
    }
   ],
   "source": [
    "df=pd.read_csv(\"malicious_phish.csv\")\n",
    "df.head()"
   ]
  },
  {
   "cell_type": "code",
   "execution_count": 3,
   "id": "f9cfdcac",
   "metadata": {},
   "outputs": [
    {
     "data": {
      "text/plain": [
       "benign        428103\n",
       "defacement     96457\n",
       "phishing       94111\n",
       "malware        32520\n",
       "Name: type, dtype: int64"
      ]
     },
     "execution_count": 3,
     "metadata": {},
     "output_type": "execute_result"
    }
   ],
   "source": [
    "df[\"type\"].value_counts()"
   ]
  },
  {
   "cell_type": "code",
   "execution_count": 4,
   "id": "674bf203",
   "metadata": {},
   "outputs": [],
   "source": [
    "from wordcloud import WordCloud   #text present in url "
   ]
  },
  {
   "cell_type": "code",
   "execution_count": 5,
   "id": "2bf77d9b",
   "metadata": {},
   "outputs": [],
   "source": [
    "import matplotlib.pyplot as plt"
   ]
  },
  {
   "cell_type": "code",
   "execution_count": 6,
   "id": "c1cd188c",
   "metadata": {},
   "outputs": [],
   "source": [
    "df_phish=df[df.type==\"phishing\"]\n",
    "df_malware=df[df.type==\"malware\"]\n",
    "df_defac=df[df.type==\"defacement\"]\n",
    "df_benign=df[df.type==\"benign\"]"
   ]
  },
  {
   "cell_type": "code",
   "execution_count": 7,
   "id": "e7dde9af",
   "metadata": {},
   "outputs": [],
   "source": [
    "import re\n",
    "\n",
    "#checking for ip in domain ipv4 or ipv6\n",
    "\n",
    "def having_ip_address(url):\n",
    "    match=re.search(\n",
    "    '(([01]?\\\\d\\\\d?|2[0-4]\\\\d|25[0-5])\\\\.([01]?\\\\d\\\\d?|2[0-4]\\\\d|25[0-5])\\\\.([01]?\\\\d\\\\d?|2[0-4]\\\\d|25[0-5])\\\\.'\n",
    "    '([01]?\\\\d\\\\d?|2[0-4]\\\\d|25[0-5])\\\\/)|' #ipv4\n",
    "    '((0x[0-9a-fA-F]{1,2})\\\\.(0x[0-9a-fA-F]{1,2})\\\\.(0x[0-9a-fA-F]{1,2})\\\\.(0x[0-9a-fA-F]{1,2})\\\\/)' \n",
    "    '(?:[a-fA-F0-9]{1,4}:){7}[a-fA-F0-9]{1,4}',url) #ipv6\n",
    "    if match:\n",
    "        return 1\n",
    "    else:\n",
    "        return 0\n",
    "df[\"use_of_ip\"]=df[\"url\"].apply(lambda i: having_ip_address(i))"
   ]
  },
  {
   "cell_type": "code",
   "execution_count": 8,
   "id": "0bd8f324",
   "metadata": {},
   "outputs": [],
   "source": [
    "from urllib.parse import urlparse\n",
    "\n",
    "def abnormal_url(url):                           #abnormal url have different kind of keywords so we used library\n",
    "    hostname=urlparse(url).hostname\n",
    "    hostname=str(hostname)\n",
    "    match=re.search(hostname,url)\n",
    "    if match:\n",
    "        return 1\n",
    "    else:\n",
    "        return 0\n",
    "df[\"abnormal_url\"]=df[\"url\"].apply(lambda i: abnormal_url(i))"
   ]
  },
  {
   "cell_type": "code",
   "execution_count": 9,
   "id": "24d2db3a",
   "metadata": {},
   "outputs": [],
   "source": [
    "#googlesearch library is used to find that a particular url is google indexed or not\n",
    "#if it is google indexedd than chances of malicious is less\n",
    "from googlesearch import search"
   ]
  },
  {
   "cell_type": "code",
   "execution_count": 10,
   "id": "e13fa4b2",
   "metadata": {},
   "outputs": [],
   "source": [
    "def google_index(url): \n",
    "    site=search(url,5)    #checking for website is google indexed or not\n",
    "    if site:\n",
    "        return 1\n",
    "    else:\n",
    "        return 0\n",
    "df[\"google_index\"]=df[\"url\"].apply(lambda i: google_index(i))"
   ]
  },
  {
   "cell_type": "code",
   "execution_count": 11,
   "id": "8f033c5a",
   "metadata": {},
   "outputs": [],
   "source": [
    "def count_dot(url):                   #counting dot present in url and returning number\n",
    "    count_dot=url.count(\".\")\n",
    "    return count_dot\n",
    "df[\"coun-dot.\"]=df[\"url\"].apply(lambda i : count_dot(i))"
   ]
  },
  {
   "cell_type": "code",
   "execution_count": 12,
   "id": "b3bf78b9",
   "metadata": {},
   "outputs": [],
   "source": [
    "def count_www(url):                  #count www in url\n",
    "    count_www=url.count(\"www\")\n",
    "    return count_www\n",
    "df[\"count-www\"]=df[\"url\"].apply(lambda i : count_www(i))"
   ]
  },
  {
   "cell_type": "code",
   "execution_count": 13,
   "id": "1c6d973b",
   "metadata": {},
   "outputs": [],
   "source": [
    "def count_atrate(url):             #count @ in url\n",
    "    return url.count(\"@\")\n",
    "df[\"count@\"]=df[\"url\"].apply(lambda i : count_atrate(i))"
   ]
  },
  {
   "cell_type": "code",
   "execution_count": 14,
   "id": "e7006b27",
   "metadata": {},
   "outputs": [],
   "source": [
    "def  no_of_dir(url):     #count no. of  directory present as they are seperated by /\n",
    "    urldir=urlparse(url).path\n",
    "    return urldir.count(\"/\")\n",
    "df[\"count_dir\"]=df[\"url\"].apply(lambda i : no_of_dir(i))"
   ]
  },
  {
   "cell_type": "code",
   "execution_count": 15,
   "id": "3b4dc9a2",
   "metadata": {},
   "outputs": [],
   "source": [
    "def no_of_embed(url):\n",
    "    urldir=urlparse(url).path        #count // in url\n",
    "    return urldir.count(\"//\")\n",
    "df[\"count_embed_domain\"]=df[\"url\"].apply(lambda i : no_of_embed(i))"
   ]
  },
  {
   "cell_type": "code",
   "execution_count": 16,
   "id": "ce55f993",
   "metadata": {},
   "outputs": [],
   "source": [
    "def shortening_service(url):      #shorten_service check for  particular keywords in url\n",
    "    match=re.search('bit\\.ly|goo\\.gl|shorte\\.st|go2l\\.ink|x\\.co|ow\\.ly|t\\.co|tinyurl|tr\\.im|is\\.gd|cli\\.gs|'\n",
    "                      'yfrog\\.com|migre\\.me|ff\\.im|tiny\\.cc|url4\\.eu|twit\\.ac|su\\.pr|twurl\\.nl|snipurl\\.com|'\n",
    "                      'short\\.to|BudURL\\.com|ping\\.fm|post\\.ly|Just\\.as|bkite\\.com|snipr\\.com|fic\\.kr|loopt\\.us|'\n",
    "                      'doiop\\.com|short\\.ie|kl\\.am|wp\\.me|rubyurl\\.com|om\\.ly|to\\.ly|bit\\.do|t\\.co|lnkd\\.in|'\n",
    "                      'db\\.tt|qr\\.ae|adf\\.ly|goo\\.gl|bitly\\.com|cur\\.lv|tinyurl\\.com|ow\\.ly|bit\\.ly|ity\\.im|'\n",
    "                      'q\\.gs|is\\.gd|po\\.st|bc\\.vc|twitthis\\.com|u\\.to|j\\.mp|buzurl\\.com|cutt\\.us|u\\.bb|yourls\\.org|'\n",
    "                      'x\\.co|prettylinkpro\\.com|scrnch\\.me|filoops\\.info|vzturl\\.com|qr\\.net|1url\\.com|tweez\\.me|v\\.gd|'\n",
    "                      'tr\\.im|link\\.zip\\.net',url)\n",
    "    if match:\n",
    "        return 1\n",
    "    else:\n",
    "        return 0\n",
    "df[\"short_url\"]=df[\"url\"].apply(lambda i:shortening_service(i))"
   ]
  },
  {
   "cell_type": "code",
   "execution_count": 17,
   "id": "a7eb7a29",
   "metadata": {},
   "outputs": [],
   "source": [
    "def count_https(url):                   #count https in url\n",
    "    return url.count(\"https\")\n",
    "df[\"count_https\"]=df[\"url\"].apply(lambda i : count_https(i))"
   ]
  },
  {
   "cell_type": "code",
   "execution_count": 18,
   "id": "e244df7b",
   "metadata": {},
   "outputs": [],
   "source": [
    "def count_http(url):                   #count https in url\n",
    "    return url.count(\"http\")\n",
    "df[\"count_http\"]=df[\"url\"].apply(lambda i : count_http(i))"
   ]
  },
  {
   "cell_type": "code",
   "execution_count": 19,
   "id": "e8e82efd",
   "metadata": {},
   "outputs": [],
   "source": [
    "def count_per(url):            #count number of % in url\n",
    "    return url.count(\"%\")\n",
    "df[\"count%\"]=df[\"url\"].apply(lambda i: count_per(i))"
   ]
  },
  {
   "cell_type": "code",
   "execution_count": 20,
   "id": "82b694cf",
   "metadata": {},
   "outputs": [],
   "source": [
    "def count_que(url):             #count number of ? in url\n",
    "    return url.count(\"?\")\n",
    "df[\"count?\"]=df[\"url\"].apply(lambda i: count_que(i))"
   ]
  },
  {
   "cell_type": "code",
   "execution_count": 21,
   "id": "4f9544cf",
   "metadata": {},
   "outputs": [],
   "source": [
    "def count_hyphen(url):         #count number of -\n",
    "    return url.count(\"-\")\n",
    "df[\"count-\"]=df[\"url\"].apply(lambda i: count_hyphen(i))"
   ]
  },
  {
   "cell_type": "code",
   "execution_count": 22,
   "id": "822a39c2",
   "metadata": {},
   "outputs": [],
   "source": [
    "def count_equal(url):          #count number of =\n",
    "    return url.count(\"=\")\n",
    "df[\"count=\"]=df[\"url\"].apply(lambda i: count_equal(i))"
   ]
  },
  {
   "cell_type": "code",
   "execution_count": 23,
   "id": "ce3a2c22",
   "metadata": {},
   "outputs": [],
   "source": [
    "def url_length(url):                #count length of url\n",
    "    return len(str(url))\n",
    "df[\"url_length\"]=df[\"url\"].apply(lambda i: url_length(i))"
   ]
  },
  {
   "cell_type": "code",
   "execution_count": 24,
   "id": "582884fc",
   "metadata": {},
   "outputs": [],
   "source": [
    "def hostname_length(url):         #count hostname \n",
    "    return len(urlparse(url).netloc)\n",
    "df[\"hostname_length\"]=df[\"url\"].apply(lambda i: hostname_length(i))"
   ]
  },
  {
   "cell_type": "code",
   "execution_count": 25,
   "id": "b2b18a59",
   "metadata": {},
   "outputs": [],
   "source": [
    "def suspicious_words(url):         #count these suspicious words\n",
    "    match=re.search('PayPal|login|signin|bank|account|update|free|lucky|service|bonus|ebayisapi|webscr',\n",
    "                      url)\n",
    "    if match:\n",
    "        return 1\n",
    "    else:\n",
    "        return 0\n",
    "df[\"sus_url\"]=df[\"url\"].apply(lambda i: suspicious_words(i))"
   ]
  },
  {
   "cell_type": "code",
   "execution_count": 29,
   "id": "4f0ef971",
   "metadata": {},
   "outputs": [],
   "source": [
    "def count_digit(url):       #count no of numeric word present in url\n",
    "    digit=0\n",
    "    for i in url:\n",
    "        if i.isnumeric():\n",
    "            digit=digit + 1\n",
    "    return digit\n",
    "df[\"count_digit\"]=df[\"url\"].apply(lambda i: count_digit(i))"
   ]
  },
  {
   "cell_type": "code",
   "execution_count": 30,
   "id": "08bb29e8",
   "metadata": {},
   "outputs": [],
   "source": [
    "def letter_count(url):    #count alaphabet in url\n",
    "    letters=0\n",
    "    for i in url:\n",
    "        if i.isalpha():\n",
    "            letters=letters + 1\n",
    "    return letters\n",
    "df[\"count_letter\"]=df[\"url\"].apply(lambda i: letter_count(i))"
   ]
  },
  {
   "cell_type": "code",
   "execution_count": 31,
   "id": "4b9607ca",
   "metadata": {},
   "outputs": [
    {
     "data": {
      "text/html": [
       "<div>\n",
       "<style scoped>\n",
       "    .dataframe tbody tr th:only-of-type {\n",
       "        vertical-align: middle;\n",
       "    }\n",
       "\n",
       "    .dataframe tbody tr th {\n",
       "        vertical-align: top;\n",
       "    }\n",
       "\n",
       "    .dataframe thead th {\n",
       "        text-align: right;\n",
       "    }\n",
       "</style>\n",
       "<table border=\"1\" class=\"dataframe\">\n",
       "  <thead>\n",
       "    <tr style=\"text-align: right;\">\n",
       "      <th></th>\n",
       "      <th>url</th>\n",
       "      <th>type</th>\n",
       "      <th>use_of_ip</th>\n",
       "      <th>abnormal_url</th>\n",
       "      <th>google_index</th>\n",
       "      <th>coun-dot.</th>\n",
       "      <th>count-www</th>\n",
       "      <th>count@</th>\n",
       "      <th>count_dir</th>\n",
       "      <th>count_embed_domain</th>\n",
       "      <th>...</th>\n",
       "      <th>count_http</th>\n",
       "      <th>count%</th>\n",
       "      <th>count?</th>\n",
       "      <th>count-</th>\n",
       "      <th>count=</th>\n",
       "      <th>url_length</th>\n",
       "      <th>hostname_length</th>\n",
       "      <th>sus_url</th>\n",
       "      <th>count_digit</th>\n",
       "      <th>count_letter</th>\n",
       "    </tr>\n",
       "  </thead>\n",
       "  <tbody>\n",
       "    <tr>\n",
       "      <th>0</th>\n",
       "      <td>br-icloud.com.br</td>\n",
       "      <td>phishing</td>\n",
       "      <td>0</td>\n",
       "      <td>0</td>\n",
       "      <td>1</td>\n",
       "      <td>2</td>\n",
       "      <td>0</td>\n",
       "      <td>0</td>\n",
       "      <td>0</td>\n",
       "      <td>0</td>\n",
       "      <td>...</td>\n",
       "      <td>0</td>\n",
       "      <td>0</td>\n",
       "      <td>0</td>\n",
       "      <td>1</td>\n",
       "      <td>0</td>\n",
       "      <td>16</td>\n",
       "      <td>0</td>\n",
       "      <td>0</td>\n",
       "      <td>0</td>\n",
       "      <td>13</td>\n",
       "    </tr>\n",
       "    <tr>\n",
       "      <th>1</th>\n",
       "      <td>mp3raid.com/music/krizz_kaliko.html</td>\n",
       "      <td>benign</td>\n",
       "      <td>0</td>\n",
       "      <td>0</td>\n",
       "      <td>1</td>\n",
       "      <td>2</td>\n",
       "      <td>0</td>\n",
       "      <td>0</td>\n",
       "      <td>2</td>\n",
       "      <td>0</td>\n",
       "      <td>...</td>\n",
       "      <td>0</td>\n",
       "      <td>0</td>\n",
       "      <td>0</td>\n",
       "      <td>0</td>\n",
       "      <td>0</td>\n",
       "      <td>35</td>\n",
       "      <td>0</td>\n",
       "      <td>0</td>\n",
       "      <td>1</td>\n",
       "      <td>29</td>\n",
       "    </tr>\n",
       "    <tr>\n",
       "      <th>2</th>\n",
       "      <td>bopsecrets.org/rexroth/cr/1.htm</td>\n",
       "      <td>benign</td>\n",
       "      <td>0</td>\n",
       "      <td>0</td>\n",
       "      <td>1</td>\n",
       "      <td>2</td>\n",
       "      <td>0</td>\n",
       "      <td>0</td>\n",
       "      <td>3</td>\n",
       "      <td>0</td>\n",
       "      <td>...</td>\n",
       "      <td>0</td>\n",
       "      <td>0</td>\n",
       "      <td>0</td>\n",
       "      <td>0</td>\n",
       "      <td>0</td>\n",
       "      <td>31</td>\n",
       "      <td>0</td>\n",
       "      <td>0</td>\n",
       "      <td>1</td>\n",
       "      <td>25</td>\n",
       "    </tr>\n",
       "    <tr>\n",
       "      <th>3</th>\n",
       "      <td>http://www.garage-pirenne.be/index.php?option=...</td>\n",
       "      <td>defacement</td>\n",
       "      <td>0</td>\n",
       "      <td>1</td>\n",
       "      <td>1</td>\n",
       "      <td>3</td>\n",
       "      <td>1</td>\n",
       "      <td>0</td>\n",
       "      <td>1</td>\n",
       "      <td>0</td>\n",
       "      <td>...</td>\n",
       "      <td>1</td>\n",
       "      <td>0</td>\n",
       "      <td>1</td>\n",
       "      <td>1</td>\n",
       "      <td>4</td>\n",
       "      <td>88</td>\n",
       "      <td>21</td>\n",
       "      <td>0</td>\n",
       "      <td>7</td>\n",
       "      <td>63</td>\n",
       "    </tr>\n",
       "    <tr>\n",
       "      <th>4</th>\n",
       "      <td>http://adventure-nicaragua.net/index.php?optio...</td>\n",
       "      <td>defacement</td>\n",
       "      <td>0</td>\n",
       "      <td>1</td>\n",
       "      <td>1</td>\n",
       "      <td>2</td>\n",
       "      <td>0</td>\n",
       "      <td>0</td>\n",
       "      <td>1</td>\n",
       "      <td>0</td>\n",
       "      <td>...</td>\n",
       "      <td>1</td>\n",
       "      <td>0</td>\n",
       "      <td>1</td>\n",
       "      <td>1</td>\n",
       "      <td>3</td>\n",
       "      <td>235</td>\n",
       "      <td>23</td>\n",
       "      <td>0</td>\n",
       "      <td>22</td>\n",
       "      <td>199</td>\n",
       "    </tr>\n",
       "  </tbody>\n",
       "</table>\n",
       "<p>5 rows × 22 columns</p>\n",
       "</div>"
      ],
      "text/plain": [
       "                                                 url        type  use_of_ip  \\\n",
       "0                                   br-icloud.com.br    phishing          0   \n",
       "1                mp3raid.com/music/krizz_kaliko.html      benign          0   \n",
       "2                    bopsecrets.org/rexroth/cr/1.htm      benign          0   \n",
       "3  http://www.garage-pirenne.be/index.php?option=...  defacement          0   \n",
       "4  http://adventure-nicaragua.net/index.php?optio...  defacement          0   \n",
       "\n",
       "   abnormal_url  google_index  coun-dot.  count-www  count@  count_dir  \\\n",
       "0             0             1          2          0       0          0   \n",
       "1             0             1          2          0       0          2   \n",
       "2             0             1          2          0       0          3   \n",
       "3             1             1          3          1       0          1   \n",
       "4             1             1          2          0       0          1   \n",
       "\n",
       "   count_embed_domain  ...  count_http  count%  count?  count-  count=  \\\n",
       "0                   0  ...           0       0       0       1       0   \n",
       "1                   0  ...           0       0       0       0       0   \n",
       "2                   0  ...           0       0       0       0       0   \n",
       "3                   0  ...           1       0       1       1       4   \n",
       "4                   0  ...           1       0       1       1       3   \n",
       "\n",
       "   url_length  hostname_length  sus_url  count_digit  count_letter  \n",
       "0          16                0        0            0            13  \n",
       "1          35                0        0            1            29  \n",
       "2          31                0        0            1            25  \n",
       "3          88               21        0            7            63  \n",
       "4         235               23        0           22           199  \n",
       "\n",
       "[5 rows x 22 columns]"
      ]
     },
     "execution_count": 31,
     "metadata": {},
     "output_type": "execute_result"
    }
   ],
   "source": [
    "df.head()"
   ]
  },
  {
   "cell_type": "code",
   "execution_count": 32,
   "id": "7f340b07",
   "metadata": {},
   "outputs": [],
   "source": [
    "#tld is top level directory"
   ]
  },
  {
   "cell_type": "code",
   "execution_count": 33,
   "id": "d88c49ca",
   "metadata": {},
   "outputs": [],
   "source": [
    "from urllib.parse import urlparse\n",
    "from tld import get_tld         #length of top level first directory\n",
    "import os.path\n",
    "\n",
    "#first dir length \n",
    "def fd_length(url):\n",
    "    urlpath=urlparse(url).path\n",
    "    try:\n",
    "        return len(urlpath.split(\"/\")[1])\n",
    "    except:\n",
    "        return 0\n",
    "df[\"fd_length\"]=df[\"url\"].apply(lambda i: fd_length(i))"
   ]
  },
  {
   "cell_type": "code",
   "execution_count": 34,
   "id": "d0053c90",
   "metadata": {},
   "outputs": [],
   "source": [
    "df[\"tld\"]=df[\"url\"].apply(lambda i:get_tld(i,fail_silently=True))\n",
    "\n",
    "def tld_length(tld):        #finding length of top level domain like .com,.edu\n",
    "    try:\n",
    "        return len(tld)\n",
    "    except:\n",
    "        return -1\n",
    "df[\"tld_length\"]=df[\"tld\"].apply(lambda i:tld_length(i))"
   ]
  },
  {
   "cell_type": "code",
   "execution_count": 35,
   "id": "83feea9b",
   "metadata": {},
   "outputs": [
    {
     "data": {
      "text/html": [
       "<div>\n",
       "<style scoped>\n",
       "    .dataframe tbody tr th:only-of-type {\n",
       "        vertical-align: middle;\n",
       "    }\n",
       "\n",
       "    .dataframe tbody tr th {\n",
       "        vertical-align: top;\n",
       "    }\n",
       "\n",
       "    .dataframe thead th {\n",
       "        text-align: right;\n",
       "    }\n",
       "</style>\n",
       "<table border=\"1\" class=\"dataframe\">\n",
       "  <thead>\n",
       "    <tr style=\"text-align: right;\">\n",
       "      <th></th>\n",
       "      <th>url</th>\n",
       "      <th>type</th>\n",
       "      <th>use_of_ip</th>\n",
       "      <th>abnormal_url</th>\n",
       "      <th>google_index</th>\n",
       "      <th>coun-dot.</th>\n",
       "      <th>count-www</th>\n",
       "      <th>count@</th>\n",
       "      <th>count_dir</th>\n",
       "      <th>count_embed_domain</th>\n",
       "      <th>...</th>\n",
       "      <th>count-</th>\n",
       "      <th>count=</th>\n",
       "      <th>url_length</th>\n",
       "      <th>hostname_length</th>\n",
       "      <th>sus_url</th>\n",
       "      <th>count_digit</th>\n",
       "      <th>count_letter</th>\n",
       "      <th>fd_length</th>\n",
       "      <th>tld</th>\n",
       "      <th>tld_length</th>\n",
       "    </tr>\n",
       "  </thead>\n",
       "  <tbody>\n",
       "    <tr>\n",
       "      <th>0</th>\n",
       "      <td>br-icloud.com.br</td>\n",
       "      <td>phishing</td>\n",
       "      <td>0</td>\n",
       "      <td>0</td>\n",
       "      <td>1</td>\n",
       "      <td>2</td>\n",
       "      <td>0</td>\n",
       "      <td>0</td>\n",
       "      <td>0</td>\n",
       "      <td>0</td>\n",
       "      <td>...</td>\n",
       "      <td>1</td>\n",
       "      <td>0</td>\n",
       "      <td>16</td>\n",
       "      <td>0</td>\n",
       "      <td>0</td>\n",
       "      <td>0</td>\n",
       "      <td>13</td>\n",
       "      <td>0</td>\n",
       "      <td>None</td>\n",
       "      <td>-1</td>\n",
       "    </tr>\n",
       "    <tr>\n",
       "      <th>1</th>\n",
       "      <td>mp3raid.com/music/krizz_kaliko.html</td>\n",
       "      <td>benign</td>\n",
       "      <td>0</td>\n",
       "      <td>0</td>\n",
       "      <td>1</td>\n",
       "      <td>2</td>\n",
       "      <td>0</td>\n",
       "      <td>0</td>\n",
       "      <td>2</td>\n",
       "      <td>0</td>\n",
       "      <td>...</td>\n",
       "      <td>0</td>\n",
       "      <td>0</td>\n",
       "      <td>35</td>\n",
       "      <td>0</td>\n",
       "      <td>0</td>\n",
       "      <td>1</td>\n",
       "      <td>29</td>\n",
       "      <td>5</td>\n",
       "      <td>None</td>\n",
       "      <td>-1</td>\n",
       "    </tr>\n",
       "    <tr>\n",
       "      <th>2</th>\n",
       "      <td>bopsecrets.org/rexroth/cr/1.htm</td>\n",
       "      <td>benign</td>\n",
       "      <td>0</td>\n",
       "      <td>0</td>\n",
       "      <td>1</td>\n",
       "      <td>2</td>\n",
       "      <td>0</td>\n",
       "      <td>0</td>\n",
       "      <td>3</td>\n",
       "      <td>0</td>\n",
       "      <td>...</td>\n",
       "      <td>0</td>\n",
       "      <td>0</td>\n",
       "      <td>31</td>\n",
       "      <td>0</td>\n",
       "      <td>0</td>\n",
       "      <td>1</td>\n",
       "      <td>25</td>\n",
       "      <td>7</td>\n",
       "      <td>None</td>\n",
       "      <td>-1</td>\n",
       "    </tr>\n",
       "    <tr>\n",
       "      <th>3</th>\n",
       "      <td>http://www.garage-pirenne.be/index.php?option=...</td>\n",
       "      <td>defacement</td>\n",
       "      <td>0</td>\n",
       "      <td>1</td>\n",
       "      <td>1</td>\n",
       "      <td>3</td>\n",
       "      <td>1</td>\n",
       "      <td>0</td>\n",
       "      <td>1</td>\n",
       "      <td>0</td>\n",
       "      <td>...</td>\n",
       "      <td>1</td>\n",
       "      <td>4</td>\n",
       "      <td>88</td>\n",
       "      <td>21</td>\n",
       "      <td>0</td>\n",
       "      <td>7</td>\n",
       "      <td>63</td>\n",
       "      <td>9</td>\n",
       "      <td>be</td>\n",
       "      <td>2</td>\n",
       "    </tr>\n",
       "    <tr>\n",
       "      <th>4</th>\n",
       "      <td>http://adventure-nicaragua.net/index.php?optio...</td>\n",
       "      <td>defacement</td>\n",
       "      <td>0</td>\n",
       "      <td>1</td>\n",
       "      <td>1</td>\n",
       "      <td>2</td>\n",
       "      <td>0</td>\n",
       "      <td>0</td>\n",
       "      <td>1</td>\n",
       "      <td>0</td>\n",
       "      <td>...</td>\n",
       "      <td>1</td>\n",
       "      <td>3</td>\n",
       "      <td>235</td>\n",
       "      <td>23</td>\n",
       "      <td>0</td>\n",
       "      <td>22</td>\n",
       "      <td>199</td>\n",
       "      <td>9</td>\n",
       "      <td>net</td>\n",
       "      <td>3</td>\n",
       "    </tr>\n",
       "  </tbody>\n",
       "</table>\n",
       "<p>5 rows × 25 columns</p>\n",
       "</div>"
      ],
      "text/plain": [
       "                                                 url        type  use_of_ip  \\\n",
       "0                                   br-icloud.com.br    phishing          0   \n",
       "1                mp3raid.com/music/krizz_kaliko.html      benign          0   \n",
       "2                    bopsecrets.org/rexroth/cr/1.htm      benign          0   \n",
       "3  http://www.garage-pirenne.be/index.php?option=...  defacement          0   \n",
       "4  http://adventure-nicaragua.net/index.php?optio...  defacement          0   \n",
       "\n",
       "   abnormal_url  google_index  coun-dot.  count-www  count@  count_dir  \\\n",
       "0             0             1          2          0       0          0   \n",
       "1             0             1          2          0       0          2   \n",
       "2             0             1          2          0       0          3   \n",
       "3             1             1          3          1       0          1   \n",
       "4             1             1          2          0       0          1   \n",
       "\n",
       "   count_embed_domain  ...  count-  count=  url_length  hostname_length  \\\n",
       "0                   0  ...       1       0          16                0   \n",
       "1                   0  ...       0       0          35                0   \n",
       "2                   0  ...       0       0          31                0   \n",
       "3                   0  ...       1       4          88               21   \n",
       "4                   0  ...       1       3         235               23   \n",
       "\n",
       "   sus_url  count_digit  count_letter  fd_length   tld  tld_length  \n",
       "0        0            0            13          0  None          -1  \n",
       "1        0            1            29          5  None          -1  \n",
       "2        0            1            25          7  None          -1  \n",
       "3        0            7            63          9    be           2  \n",
       "4        0           22           199          9   net           3  \n",
       "\n",
       "[5 rows x 25 columns]"
      ]
     },
     "execution_count": 35,
     "metadata": {},
     "output_type": "execute_result"
    }
   ],
   "source": [
    "df.head()"
   ]
  },
  {
   "cell_type": "code",
   "execution_count": 36,
   "id": "68bb653e",
   "metadata": {},
   "outputs": [],
   "source": [
    "#as we have use tld to extract domain and to get number so we will drop it\n",
    "df=df.drop(\"tld\",axis=1)"
   ]
  },
  {
   "cell_type": "code",
   "execution_count": 37,
   "id": "e003a3c6",
   "metadata": {},
   "outputs": [
    {
     "data": {
      "text/plain": [
       "Index(['url', 'type', 'use_of_ip', 'abnormal_url', 'google_index', 'coun-dot.',\n",
       "       'count-www', 'count@', 'count_dir', 'count_embed_domain', 'short_url',\n",
       "       'count_https', 'count_http', 'count%', 'count?', 'count-', 'count=',\n",
       "       'url_length', 'hostname_length', 'sus_url', 'count_digit',\n",
       "       'count_letter', 'fd_length', 'tld_length'],\n",
       "      dtype='object')"
      ]
     },
     "execution_count": 37,
     "metadata": {},
     "output_type": "execute_result"
    }
   ],
   "source": [
    "df.columns"
   ]
  },
  {
   "cell_type": "code",
   "execution_count": 38,
   "id": "0bd0333f",
   "metadata": {},
   "outputs": [
    {
     "data": {
      "text/plain": [
       "benign        428103\n",
       "defacement     96457\n",
       "phishing       94111\n",
       "malware        32520\n",
       "Name: type, dtype: int64"
      ]
     },
     "execution_count": 38,
     "metadata": {},
     "output_type": "execute_result"
    }
   ],
   "source": [
    "df[\"type\"].value_counts()"
   ]
  },
  {
   "cell_type": "code",
   "execution_count": 39,
   "id": "7c4039c1",
   "metadata": {},
   "outputs": [
    {
     "name": "stderr",
     "output_type": "stream",
     "text": [
      "C:\\Users\\pp884\\Anaconda3\\lib\\site-packages\\scipy\\__init__.py:146: UserWarning: A NumPy version >=1.16.5 and <1.23.0 is required for this version of SciPy (detected version 1.26.3\n",
      "  warnings.warn(f\"A NumPy version >={np_minversion} and <{np_maxversion}\"\n"
     ]
    }
   ],
   "source": [
    "#######check some graphs\n",
    "import seaborn as sns\n",
    "import matplotlib.pyplot as plt"
   ]
  },
  {
   "cell_type": "code",
   "execution_count": 89,
   "id": "3a9066ef",
   "metadata": {},
   "outputs": [
    {
     "data": {
      "text/plain": [
       "<AxesSubplot:xlabel='count', ylabel='type'>"
      ]
     },
     "execution_count": 89,
     "metadata": {},
     "output_type": "execute_result"
    },
    {
     "data": {
      "image/png": "[encoded data removed]",
      "text/plain": [
       "<Figure size 432x288 with 1 Axes>"
      ]
     },
     "metadata": {
      "needs_background": "light"
     },
     "output_type": "display_data"
    }
   ],
   "source": [
    "sns.countplot(y=\"type\",data=df,hue=\"use_of_ip\")    #distribution of use_of_ip so only malware has ip"
   ]
  },
  {
   "cell_type": "code",
   "execution_count": 90,
   "id": "31b7e97b",
   "metadata": {},
   "outputs": [
    {
     "data": {
      "text/plain": [
       "<AxesSubplot:xlabel='count', ylabel='type'>"
      ]
     },
     "execution_count": 90,
     "metadata": {},
     "output_type": "execute_result"
    },
    {
     "data": {
      "image/png": "[encoded data removed]",
      "text/plain": [
       "<Figure size 432x288 with 1 Axes>"
      ]
     },
     "metadata": {
      "needs_background": "light"
     },
     "output_type": "display_data"
    }
   ],
   "source": [
    "sns.countplot(y=\"type\",data=df,hue=\"abnormal_url\")   #distribution of abnormal_url "
   ]
  },
  {
   "cell_type": "code",
   "execution_count": 91,
   "id": "11e1eb85",
   "metadata": {},
   "outputs": [
    {
     "data": {
      "text/plain": [
       "<AxesSubplot:xlabel='count', ylabel='type'>"
      ]
     },
     "execution_count": 91,
     "metadata": {},
     "output_type": "execute_result"
    },
    {
     "data": {
      "image/png": "[encoded data removed]",
      "text/plain": [
       "<Figure size 432x288 with 1 Axes>"
      ]
     },
     "metadata": {
      "needs_background": "light"
     },
     "output_type": "display_data"
    }
   ],
   "source": [
    "sns.countplot(y=\"type\",data=df,hue=\"google_index\")    #google index all url are google indexed"
   ]
  },
  {
   "cell_type": "code",
   "execution_count": 92,
   "id": "e7d6a5fd",
   "metadata": {},
   "outputs": [
    {
     "data": {
      "text/plain": [
       "<AxesSubplot:xlabel='count', ylabel='type'>"
      ]
     },
     "execution_count": 92,
     "metadata": {},
     "output_type": "execute_result"
    },
    {
     "data": {
      "image/png": "[encoded data removed]",
      "text/plain": [
       "<Figure size 432x288 with 1 Axes>"
      ]
     },
     "metadata": {
      "needs_background": "light"
     },
     "output_type": "display_data"
    }
   ],
   "source": [
    "sns.countplot(y=\"type\",data=df,hue=\"short_url\")   #short url"
   ]
  },
  {
   "cell_type": "code",
   "execution_count": 93,
   "id": "d8130316",
   "metadata": {},
   "outputs": [
    {
     "data": {
      "text/plain": [
       "<AxesSubplot:xlabel='count', ylabel='type'>"
      ]
     },
     "execution_count": 93,
     "metadata": {},
     "output_type": "execute_result"
    },
    {
     "data": {
      "image/png": "[encoded data removed]",
      "text/plain": [
       "<Figure size 432x288 with 1 Axes>"
      ]
     },
     "metadata": {
      "needs_background": "light"
     },
     "output_type": "display_data"
    }
   ],
   "source": [
    "sns.countplot(y=\"type\",data=df,hue=\"sus_url\")     #suspicious url"
   ]
  },
  {
   "cell_type": "code",
   "execution_count": 94,
   "id": "44b6a2ab",
   "metadata": {},
   "outputs": [
    {
     "data": {
      "text/plain": [
       "<AxesSubplot:xlabel='type', ylabel='coun-dot.'>"
      ]
     },
     "execution_count": 94,
     "metadata": {},
     "output_type": "execute_result"
    },
    {
     "data": {
      "image/png": "[encoded data removed]",
      "text/plain": [
       "<Figure size 432x288 with 1 Axes>"
      ]
     },
     "metadata": {
      "needs_background": "light"
     },
     "output_type": "display_data"
    }
   ],
   "source": [
    "sns.boxplot(x=\"type\",y=\"coun-dot.\",data=df)"
   ]
  },
  {
   "cell_type": "code",
   "execution_count": 96,
   "id": "0e511fd0",
   "metadata": {},
   "outputs": [
    {
     "data": {
      "text/plain": [
       "<AxesSubplot:xlabel='type', ylabel='count-www'>"
      ]
     },
     "execution_count": 96,
     "metadata": {},
     "output_type": "execute_result"
    },
    {
     "data": {
      "image/png": "[encoded data removed]",
      "text/plain": [
       "<Figure size 432x288 with 1 Axes>"
      ]
     },
     "metadata": {
      "needs_background": "light"
     },
     "output_type": "display_data"
    }
   ],
   "source": [
    "sns.boxplot(x=\"type\",y=\"count-www\",data=df)"
   ]
  },
  {
   "cell_type": "code",
   "execution_count": 98,
   "id": "2133f3c9",
   "metadata": {},
   "outputs": [
    {
     "data": {
      "text/plain": [
       "<AxesSubplot:xlabel='type', ylabel='count@'>"
      ]
     },
     "execution_count": 98,
     "metadata": {},
     "output_type": "execute_result"
    },
    {
     "data": {
      "image/png": "[encoded data removed]",
      "text/plain": [
       "<Figure size 432x288 with 1 Axes>"
      ]
     },
     "metadata": {
      "needs_background": "light"
     },
     "output_type": "display_data"
    }
   ],
   "source": [
    "sns.boxplot(x=\"type\",y=\"count@\",data=df)"
   ]
  },
  {
   "cell_type": "code",
   "execution_count": 101,
   "id": "d6557285",
   "metadata": {},
   "outputs": [
    {
     "data": {
      "text/plain": [
       "<AxesSubplot:xlabel='type', ylabel='count_dir'>"
      ]
     },
     "execution_count": 101,
     "metadata": {},
     "output_type": "execute_result"
    },
    {
     "data": {
      "image/png": "[encoded data removed]",
      "text/plain": [
       "<Figure size 432x288 with 1 Axes>"
      ]
     },
     "metadata": {
      "needs_background": "light"
     },
     "output_type": "display_data"
    }
   ],
   "source": [
    "sns.boxplot(x=\"type\",y=\"count_dir\",data=df)"
   ]
  },
  {
   "cell_type": "code",
   "execution_count": 102,
   "id": "0a28ff40",
   "metadata": {},
   "outputs": [
    {
     "data": {
      "text/plain": [
       "<AxesSubplot:xlabel='type', ylabel='hostname_length'>"
      ]
     },
     "execution_count": 102,
     "metadata": {},
     "output_type": "execute_result"
    },
    {
     "data": {
      "image/png": "[encoded data removed]",
      "text/plain": [
       "<Figure size 432x288 with 1 Axes>"
      ]
     },
     "metadata": {
      "needs_background": "light"
     },
     "output_type": "display_data"
    }
   ],
   "source": [
    "sns.boxplot(x=\"type\",y=\"hostname_length\",data=df)"
   ]
  },
  {
   "cell_type": "code",
   "execution_count": 103,
   "id": "b41a218a",
   "metadata": {},
   "outputs": [
    {
     "data": {
      "text/plain": [
       "<AxesSubplot:xlabel='type', ylabel='fd_length'>"
      ]
     },
     "execution_count": 103,
     "metadata": {},
     "output_type": "execute_result"
    },
    {
     "data": {
      "image/png": "[encoded data removed]",
      "text/plain": [
       "<Figure size 432x288 with 1 Axes>"
      ]
     },
     "metadata": {
      "needs_background": "light"
     },
     "output_type": "display_data"
    }
   ],
   "source": [
    "sns.boxplot(x=\"type\",y=\"fd_length\",data=df)"
   ]
  },
  {
   "cell_type": "code",
   "execution_count": 104,
   "id": "4c401985",
   "metadata": {},
   "outputs": [
    {
     "data": {
      "text/plain": [
       "<AxesSubplot:xlabel='type', ylabel='tld_length'>"
      ]
     },
     "execution_count": 104,
     "metadata": {},
     "output_type": "execute_result"
    },
    {
     "data": {
      "image/png": "[encoded data removed]",
      "text/plain": [
       "<Figure size 432x288 with 1 Axes>"
      ]
     },
     "metadata": {
      "needs_background": "light"
     },
     "output_type": "display_data"
    }
   ],
   "source": [
    "sns.boxplot(x=\"type\",y=\"tld_length\",data=df)"
   ]
  },
  {
   "cell_type": "code",
   "execution_count": 40,
   "id": "746126e1",
   "metadata": {},
   "outputs": [
    {
     "data": {
      "text/plain": [
       "0    428103\n",
       "1     96457\n",
       "3     94111\n",
       "2     32520\n",
       "Name: type_code, dtype: int64"
      ]
     },
     "execution_count": 40,
     "metadata": {},
     "output_type": "execute_result"
    }
   ],
   "source": [
    "#converting type into lablel encoding means converting it into number\n",
    "from sklearn.preprocessing import LabelEncoder\n",
    "\n",
    "le=LabelEncoder()\n",
    "df[\"type_code\"]=le.fit_transform(df[\"type\"])\n",
    "df[\"type_code\"].value_counts()"
   ]
  },
  {
   "cell_type": "code",
   "execution_count": 41,
   "id": "fae9abfb",
   "metadata": {},
   "outputs": [],
   "source": [
    "#we will not use google index in x because all value are 1 so wont make any difference\n",
    "x=df[[  'use_of_ip', 'abnormal_url', 'coun-dot.',\n",
    "       'count-www', 'count@', 'count_dir', 'count_embed_domain', 'short_url',\n",
    "       'count_https', 'count_http', 'count%', 'count?', 'count-', 'count=',\n",
    "       'url_length', 'hostname_length', 'sus_url', 'count_digit',\n",
    "       'count_letter', 'tld_length', 'fd_length']]\n",
    "y=df[\"type_code\"]"
   ]
  },
  {
   "cell_type": "code",
   "execution_count": 42,
   "id": "6b66d38f",
   "metadata": {},
   "outputs": [
    {
     "data": {
      "text/html": [
       "<div>\n",
       "<style scoped>\n",
       "    .dataframe tbody tr th:only-of-type {\n",
       "        vertical-align: middle;\n",
       "    }\n",
       "\n",
       "    .dataframe tbody tr th {\n",
       "        vertical-align: top;\n",
       "    }\n",
       "\n",
       "    .dataframe thead th {\n",
       "        text-align: right;\n",
       "    }\n",
       "</style>\n",
       "<table border=\"1\" class=\"dataframe\">\n",
       "  <thead>\n",
       "    <tr style=\"text-align: right;\">\n",
       "      <th></th>\n",
       "      <th>use_of_ip</th>\n",
       "      <th>abnormal_url</th>\n",
       "      <th>coun-dot.</th>\n",
       "      <th>count-www</th>\n",
       "      <th>count@</th>\n",
       "      <th>count_dir</th>\n",
       "      <th>count_embed_domain</th>\n",
       "      <th>short_url</th>\n",
       "      <th>count_https</th>\n",
       "      <th>count_http</th>\n",
       "      <th>...</th>\n",
       "      <th>count?</th>\n",
       "      <th>count-</th>\n",
       "      <th>count=</th>\n",
       "      <th>url_length</th>\n",
       "      <th>hostname_length</th>\n",
       "      <th>sus_url</th>\n",
       "      <th>count_digit</th>\n",
       "      <th>count_letter</th>\n",
       "      <th>tld_length</th>\n",
       "      <th>fd_length</th>\n",
       "    </tr>\n",
       "  </thead>\n",
       "  <tbody>\n",
       "    <tr>\n",
       "      <th>0</th>\n",
       "      <td>0</td>\n",
       "      <td>0</td>\n",
       "      <td>2</td>\n",
       "      <td>0</td>\n",
       "      <td>0</td>\n",
       "      <td>0</td>\n",
       "      <td>0</td>\n",
       "      <td>0</td>\n",
       "      <td>0</td>\n",
       "      <td>0</td>\n",
       "      <td>...</td>\n",
       "      <td>0</td>\n",
       "      <td>1</td>\n",
       "      <td>0</td>\n",
       "      <td>16</td>\n",
       "      <td>0</td>\n",
       "      <td>0</td>\n",
       "      <td>0</td>\n",
       "      <td>13</td>\n",
       "      <td>-1</td>\n",
       "      <td>0</td>\n",
       "    </tr>\n",
       "    <tr>\n",
       "      <th>1</th>\n",
       "      <td>0</td>\n",
       "      <td>0</td>\n",
       "      <td>2</td>\n",
       "      <td>0</td>\n",
       "      <td>0</td>\n",
       "      <td>2</td>\n",
       "      <td>0</td>\n",
       "      <td>0</td>\n",
       "      <td>0</td>\n",
       "      <td>0</td>\n",
       "      <td>...</td>\n",
       "      <td>0</td>\n",
       "      <td>0</td>\n",
       "      <td>0</td>\n",
       "      <td>35</td>\n",
       "      <td>0</td>\n",
       "      <td>0</td>\n",
       "      <td>1</td>\n",
       "      <td>29</td>\n",
       "      <td>-1</td>\n",
       "      <td>5</td>\n",
       "    </tr>\n",
       "    <tr>\n",
       "      <th>2</th>\n",
       "      <td>0</td>\n",
       "      <td>0</td>\n",
       "      <td>2</td>\n",
       "      <td>0</td>\n",
       "      <td>0</td>\n",
       "      <td>3</td>\n",
       "      <td>0</td>\n",
       "      <td>0</td>\n",
       "      <td>0</td>\n",
       "      <td>0</td>\n",
       "      <td>...</td>\n",
       "      <td>0</td>\n",
       "      <td>0</td>\n",
       "      <td>0</td>\n",
       "      <td>31</td>\n",
       "      <td>0</td>\n",
       "      <td>0</td>\n",
       "      <td>1</td>\n",
       "      <td>25</td>\n",
       "      <td>-1</td>\n",
       "      <td>7</td>\n",
       "    </tr>\n",
       "    <tr>\n",
       "      <th>3</th>\n",
       "      <td>0</td>\n",
       "      <td>1</td>\n",
       "      <td>3</td>\n",
       "      <td>1</td>\n",
       "      <td>0</td>\n",
       "      <td>1</td>\n",
       "      <td>0</td>\n",
       "      <td>0</td>\n",
       "      <td>0</td>\n",
       "      <td>1</td>\n",
       "      <td>...</td>\n",
       "      <td>1</td>\n",
       "      <td>1</td>\n",
       "      <td>4</td>\n",
       "      <td>88</td>\n",
       "      <td>21</td>\n",
       "      <td>0</td>\n",
       "      <td>7</td>\n",
       "      <td>63</td>\n",
       "      <td>2</td>\n",
       "      <td>9</td>\n",
       "    </tr>\n",
       "    <tr>\n",
       "      <th>4</th>\n",
       "      <td>0</td>\n",
       "      <td>1</td>\n",
       "      <td>2</td>\n",
       "      <td>0</td>\n",
       "      <td>0</td>\n",
       "      <td>1</td>\n",
       "      <td>0</td>\n",
       "      <td>0</td>\n",
       "      <td>0</td>\n",
       "      <td>1</td>\n",
       "      <td>...</td>\n",
       "      <td>1</td>\n",
       "      <td>1</td>\n",
       "      <td>3</td>\n",
       "      <td>235</td>\n",
       "      <td>23</td>\n",
       "      <td>0</td>\n",
       "      <td>22</td>\n",
       "      <td>199</td>\n",
       "      <td>3</td>\n",
       "      <td>9</td>\n",
       "    </tr>\n",
       "  </tbody>\n",
       "</table>\n",
       "<p>5 rows × 21 columns</p>\n",
       "</div>"
      ],
      "text/plain": [
       "   use_of_ip  abnormal_url  coun-dot.  count-www  count@  count_dir  \\\n",
       "0          0             0          2          0       0          0   \n",
       "1          0             0          2          0       0          2   \n",
       "2          0             0          2          0       0          3   \n",
       "3          0             1          3          1       0          1   \n",
       "4          0             1          2          0       0          1   \n",
       "\n",
       "   count_embed_domain  short_url  count_https  count_http  ...  count?  \\\n",
       "0                   0          0            0           0  ...       0   \n",
       "1                   0          0            0           0  ...       0   \n",
       "2                   0          0            0           0  ...       0   \n",
       "3                   0          0            0           1  ...       1   \n",
       "4                   0          0            0           1  ...       1   \n",
       "\n",
       "   count-  count=  url_length  hostname_length  sus_url  count_digit  \\\n",
       "0       1       0          16                0        0            0   \n",
       "1       0       0          35                0        0            1   \n",
       "2       0       0          31                0        0            1   \n",
       "3       1       4          88               21        0            7   \n",
       "4       1       3         235               23        0           22   \n",
       "\n",
       "   count_letter  tld_length  fd_length  \n",
       "0            13          -1          0  \n",
       "1            29          -1          5  \n",
       "2            25          -1          7  \n",
       "3            63           2          9  \n",
       "4           199           3          9  \n",
       "\n",
       "[5 rows x 21 columns]"
      ]
     },
     "execution_count": 42,
     "metadata": {},
     "output_type": "execute_result"
    }
   ],
   "source": [
    "x.head()"
   ]
  },
  {
   "cell_type": "code",
   "execution_count": 43,
   "id": "164fc497",
   "metadata": {},
   "outputs": [],
   "source": [
    "from sklearn.model_selection import train_test_split\n",
    "x_train,x_test,y_train,y_test=train_test_split(x,y,test_size=0.2,stratify=y,shuffle=True,random_state=42)"
   ]
  },
  {
   "cell_type": "code",
   "execution_count": 44,
   "id": "12dd0038",
   "metadata": {},
   "outputs": [
    {
     "data": {
      "text/plain": [
       "RandomForestClassifier()"
      ]
     },
     "execution_count": 44,
     "metadata": {},
     "output_type": "execute_result"
    }
   ],
   "source": [
    "#model\n",
    "from sklearn.ensemble import RandomForestClassifier\n",
    "rf=RandomForestClassifier(n_estimators=100)\n",
    "rf.fit(x_train,y_train)"
   ]
  },
  {
   "cell_type": "code",
   "execution_count": 45,
   "id": "0ac1a5dd",
   "metadata": {},
   "outputs": [
    {
     "data": {
      "text/plain": [
       "array([0, 0, 0, ..., 0, 1, 0])"
      ]
     },
     "execution_count": 45,
     "metadata": {},
     "output_type": "execute_result"
    }
   ],
   "source": [
    "y_pred_rf=rf.predict(x_test)\n",
    "y_pred_rf"
   ]
  },
  {
   "cell_type": "code",
   "execution_count": 46,
   "id": "5a49327a",
   "metadata": {},
   "outputs": [],
   "source": [
    "from sklearn.metrics import confusion_matrix,classification_report,accuracy_score"
   ]
  },
  {
   "cell_type": "code",
   "execution_count": 47,
   "id": "665d73a0",
   "metadata": {},
   "outputs": [
    {
     "name": "stdout",
     "output_type": "stream",
     "text": [
      "[[84348     4     8  1261]\n",
      " [   28 19160    11    93]\n",
      " [   39    60  6101   304]\n",
      " [ 2210   297    58 16257]]\n",
      "accuracy score : 0.9664232679919226\n",
      "classification Report :               precision    recall  f1-score   support\n",
      "\n",
      "           0       0.97      0.99      0.98     85621\n",
      "           1       0.98      0.99      0.99     19292\n",
      "           2       0.99      0.94      0.96      6504\n",
      "           3       0.91      0.86      0.89     18822\n",
      "\n",
      "    accuracy                           0.97    130239\n",
      "   macro avg       0.96      0.95      0.95    130239\n",
      "weighted avg       0.97      0.97      0.97    130239\n",
      "\n"
     ]
    }
   ],
   "source": [
    "print(confusion_matrix(y_test,y_pred_rf))\n",
    "print(\"accuracy score : {}\".format(accuracy_score(y_test,y_pred_rf)))\n",
    "print(\"classification Report : {}\".format(classification_report(y_test,y_pred_rf)))"
   ]
  },
  {
   "cell_type": "code",
   "execution_count": 48,
   "id": "4fe168fc",
   "metadata": {},
   "outputs": [
    {
     "data": {
      "text/plain": [
       "<AxesSubplot:>"
      ]
     },
     "execution_count": 48,
     "metadata": {},
     "output_type": "execute_result"
    },
    {
     "data": {
      "image/png": "[encoded data removed]",
      "text/plain": [
       "<Figure size 720x432 with 1 Axes>"
      ]
     },
     "metadata": {
      "needs_background": "light"
     },
     "output_type": "display_data"
    }
   ],
   "source": [
    "feat=pd.Series(rf.feature_importances_,index=x_train.columns)\n",
    "feat.sort_values().plot(kind=\"barh\",figsize=(10,6))"
   ]
  },
  {
   "cell_type": "code",
   "execution_count": 51,
   "id": "292c40e7",
   "metadata": {},
   "outputs": [],
   "source": [
    "#########\n",
    "### Light GBM classifier"
   ]
  },
  {
   "cell_type": "code",
   "execution_count": 52,
   "id": "c28072f8",
   "metadata": {},
   "outputs": [],
   "source": [
    "from lightgbm import LGBMClassifier"
   ]
  },
  {
   "cell_type": "code",
   "execution_count": 53,
   "id": "ec387105",
   "metadata": {},
   "outputs": [
    {
     "name": "stdout",
     "output_type": "stream",
     "text": [
      "[LightGBM] [Warning] Unknown parameter: silent\n",
      "[LightGBM] [Warning] Unknown parameter: silent\n",
      "[LightGBM] [Info] Auto-choosing row-wise multi-threading, the overhead of testing was 0.030058 seconds.\n",
      "You can set `force_row_wise=true` to remove the overhead.\n",
      "And if memory is not enough, you can set `force_col_wise=true`.\n",
      "[LightGBM] [Info] Total Bins 1157\n",
      "[LightGBM] [Info] Number of data points in the train set: 520952, number of used features: 21\n",
      "[LightGBM] [Info] Start training from score -0.419439\n",
      "[LightGBM] [Info] Start training from score -1.909712\n",
      "[LightGBM] [Info] Start training from score -2.996946\n",
      "[LightGBM] [Info] Start training from score -1.934324\n"
     ]
    }
   ],
   "source": [
    "lgb=LGBMClassifier(objective=\"multiclass\",boosting_type=\"gbdt\",n_jobs=5,silent=True,random_state=1234)\n",
    "lgb_f=lgb.fit(x_train,y_train)"
   ]
  },
  {
   "cell_type": "code",
   "execution_count": 54,
   "id": "b4fc70c2",
   "metadata": {},
   "outputs": [
    {
     "name": "stdout",
     "output_type": "stream",
     "text": [
      "[LightGBM] [Warning] Unknown parameter: silent\n"
     ]
    },
    {
     "data": {
      "text/plain": [
       "array([0, 0, 0, ..., 0, 1, 0])"
      ]
     },
     "execution_count": 54,
     "metadata": {},
     "output_type": "execute_result"
    }
   ],
   "source": [
    "y_pred_lgb=lgb_f.predict(x_test)\n",
    "y_pred_lgb"
   ]
  },
  {
   "cell_type": "code",
   "execution_count": 55,
   "id": "99dac450",
   "metadata": {},
   "outputs": [
    {
     "name": "stdout",
     "output_type": "stream",
     "text": [
      "[[84507    22    20  1072]\n",
      " [   75 19066    24   127]\n",
      " [   67   191  5831   415]\n",
      " [ 2621   467   149 15585]]\n",
      "accuracy score : 0.9596894939303895\n",
      "classification Report :               precision    recall  f1-score   support\n",
      "\n",
      "           0       0.97      0.99      0.98     85621\n",
      "           1       0.97      0.99      0.98     19292\n",
      "           2       0.97      0.90      0.93      6504\n",
      "           3       0.91      0.83      0.87     18822\n",
      "\n",
      "    accuracy                           0.96    130239\n",
      "   macro avg       0.95      0.92      0.94    130239\n",
      "weighted avg       0.96      0.96      0.96    130239\n",
      "\n"
     ]
    }
   ],
   "source": [
    "print(confusion_matrix(y_test,y_pred_lgb))\n",
    "print(\"accuracy score : {}\".format(accuracy_score(y_test,y_pred_lgb)))\n",
    "print(\"classification Report : {}\".format(classification_report(y_test,y_pred_lgb)))"
   ]
  },
  {
   "cell_type": "code",
   "execution_count": 56,
   "id": "4415b26b",
   "metadata": {},
   "outputs": [],
   "source": [
    "#############\n",
    "##xgboost"
   ]
  },
  {
   "cell_type": "code",
   "execution_count": 57,
   "id": "3102f651",
   "metadata": {},
   "outputs": [],
   "source": [
    "from sklearn.ensemble import GradientBoostingClassifier"
   ]
  },
  {
   "cell_type": "code",
   "execution_count": 58,
   "id": "02134fc5",
   "metadata": {},
   "outputs": [
    {
     "data": {
      "text/plain": [
       "GradientBoostingClassifier()"
      ]
     },
     "execution_count": 58,
     "metadata": {},
     "output_type": "execute_result"
    }
   ],
   "source": [
    "xgboost=GradientBoostingClassifier(n_estimators=100)\n",
    "xgboost.fit(x_train,y_train)"
   ]
  },
  {
   "cell_type": "code",
   "execution_count": 60,
   "id": "d3af921b",
   "metadata": {},
   "outputs": [
    {
     "data": {
      "text/plain": [
       "array([0, 0, 0, ..., 0, 1, 0])"
      ]
     },
     "execution_count": 60,
     "metadata": {},
     "output_type": "execute_result"
    }
   ],
   "source": [
    "y_pred_xgboost=xgboost.predict(x_test)\n",
    "y_pred_xgboost"
   ]
  },
  {
   "cell_type": "code",
   "execution_count": 61,
   "id": "edfc7ca8",
   "metadata": {},
   "outputs": [
    {
     "name": "stdout",
     "output_type": "stream",
     "text": [
      "[[84473    51    12  1085]\n",
      " [  297 18611    68   316]\n",
      " [  169   567  5276   492]\n",
      " [ 3169  1021   326 14306]]\n",
      "accuracy score : 0.9418530547685409\n",
      "classification Report :               precision    recall  f1-score   support\n",
      "\n",
      "           0       0.96      0.99      0.97     85621\n",
      "           1       0.92      0.96      0.94     19292\n",
      "           2       0.93      0.81      0.87      6504\n",
      "           3       0.88      0.76      0.82     18822\n",
      "\n",
      "    accuracy                           0.94    130239\n",
      "   macro avg       0.92      0.88      0.90    130239\n",
      "weighted avg       0.94      0.94      0.94    130239\n",
      "\n"
     ]
    }
   ],
   "source": [
    "print(confusion_matrix(y_test,y_pred_xgboost))\n",
    "print(\"accuracy score : {}\".format(accuracy_score(y_test,y_pred_xgboost)))\n",
    "print(\"classification Report : {}\".format(classification_report(y_test,y_pred_xgboost)))"
   ]
  },
  {
   "cell_type": "code",
   "execution_count": null,
   "id": "fca64ab5",
   "metadata": {},
   "outputs": [],
   "source": []
  },
  {
   "cell_type": "code",
   "execution_count": null,
   "id": "bf827ca8",
   "metadata": {},
   "outputs": [],
   "source": []
  },
  {
   "cell_type": "code",
   "execution_count": null,
   "id": "0451bfe8",
   "metadata": {},
   "outputs": [],
   "source": []
  },
  {
   "cell_type": "code",
   "execution_count": null,
   "id": "58041c0d",
   "metadata": {},
   "outputs": [],
   "source": [
    "\n",
    "    "
   ]
  },
  {
   "cell_type": "code",
   "execution_count": null,
   "id": "0241011f",
   "metadata": {},
   "outputs": [],
   "source": []
  },
  {
   "cell_type": "code",
   "execution_count": null,
   "id": "9e1995db",
   "metadata": {},
   "outputs": [],
   "source": []
  },
  {
   "cell_type": "code",
   "execution_count": null,
   "id": "d958ca62",
   "metadata": {},
   "outputs": [],
   "source": []
  }
 ],
 "metadata": {
  "kernelspec": {
   "display_name": "Python 3 (ipykernel)",
   "language": "python",
   "name": "python3"
  },
  "language_info": {
   "codemirror_mode": {
    "name": "ipython",
    "version": 3
   },
   "file_extension": ".py",
   "mimetype": "text/x-python",
   "name": "python",
   "nbconvert_exporter": "python",
   "pygments_lexer": "ipython3",
   "version": "3.9.7"
  }
 },
 "nbformat": 4,
 "nbformat_minor": 5
}
